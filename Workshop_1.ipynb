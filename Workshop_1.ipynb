{
  "nbformat": 4,
  "nbformat_minor": 0,
  "metadata": {
    "colab": {
      "name": "Workshop-1.ipynb",
      "provenance": [],
      "collapsed_sections": []
    },
    "kernelspec": {
      "name": "python3",
      "display_name": "Python 3"
    }
  },
  "cells": [
    {
      "cell_type": "markdown",
      "metadata": {
        "id": "Gk1AHvhFKXkn"
      },
      "source": [
        "#<center>Welcome to Python for Machine Learning</h1></center>"
      ]
    },
    {
      "cell_type": "markdown",
      "metadata": {
        "id": "gk71T_tdKbVf"
      },
      "source": [
        "<h2>Section-1: Defining Variables</h2>\r\n",
        "\r\n",
        "<h3>Defining Variables</h3>\r\n",
        "<ul><li>In python, Variable Declaration is not allowed.</li>\r\n",
        "<li>A variable has to be initialized while declaring it, hence it has to be defined from the first time it appears in the code.</li>\r\n",
        "<li>Variables cannot be defined with any specific data-type, it can hold value of any data-type at any time.</li>\r\n",
        "<li>Variables can be defined dynamically.</li>\r\n",
        "</ul>\r\n",
        "\r\n",
        "<h3>Naming Convetion</h3>\r\n",
        "<ul>\r\n",
        "<li>A variable name must start with a letter or the underscore character.</li>\r\n",
        "<li>A variable name cannot start with a number.</li>\r\n",
        "<li>A variable name can only contain alpha-numeric characters and underscores (A-z, 0-9, and _ ).</li>\r\n",
        "<li>Variable names are case-sensitive (age, Age and AGE are three different variables).</li></ul>"
      ]
    },
    {
      "cell_type": "code",
      "metadata": {
        "colab": {
          "base_uri": "https://localhost:8080/"
        },
        "id": "v30LFNlVI1r6",
        "outputId": "68ab6617-5693-43a7-cfe6-25f17b64b364"
      },
      "source": [
        "a = 10\r\n",
        "_a = 15\r\n",
        "A = 5\r\n",
        "print(a, _a, A)"
      ],
      "execution_count": null,
      "outputs": [
        {
          "output_type": "stream",
          "text": [
            "10 15 5\n"
          ],
          "name": "stdout"
        }
      ]
    },
    {
      "cell_type": "code",
      "metadata": {
        "colab": {
          "base_uri": "https://localhost:8080/",
          "height": 128
        },
        "id": "vyOmsm2pNSqX",
        "outputId": "5fc9106c-5af2-433e-d5b3-52a5440f618d"
      },
      "source": [
        "1_a = 5"
      ],
      "execution_count": null,
      "outputs": [
        {
          "output_type": "error",
          "ename": "SyntaxError",
          "evalue": "ignored",
          "traceback": [
            "\u001b[0;36m  File \u001b[0;32m\"<ipython-input-2-a792a9ecf9ad>\"\u001b[0;36m, line \u001b[0;32m1\u001b[0m\n\u001b[0;31m    1_a = 5\u001b[0m\n\u001b[0m     ^\u001b[0m\n\u001b[0;31mSyntaxError\u001b[0m\u001b[0;31m:\u001b[0m invalid token\n"
          ]
        }
      ]
    },
    {
      "cell_type": "markdown",
      "metadata": {
        "id": "a6MZgRVnQd40"
      },
      "source": [
        "<h5></h5>"
      ]
    },
    {
      "cell_type": "markdown",
      "metadata": {
        "id": "agSEWztfNc5o"
      },
      "source": [
        "<h2>Basic Data-types</h2>\r\n",
        "<h3>List of commonly used data-types in python</h3>\r\n",
        "<ul>\r\n",
        "<li>Integer</li>\r\n",
        "<li>Float</li>\r\n",
        "<li>String</li>\r\n",
        "<li>Tuple</li>\r\n",
        "<li>Dictionary</li>\r\n",
        "<li>List</li>\r\n",
        "</ul>"
      ]
    },
    {
      "cell_type": "markdown",
      "metadata": {
        "id": "1U9bHpH2OI7M"
      },
      "source": [
        "<h4>Integer</h4>"
      ]
    },
    {
      "cell_type": "code",
      "metadata": {
        "colab": {
          "base_uri": "https://localhost:8080/"
        },
        "id": "4EbNQrNrNU1N",
        "outputId": "629f3de9-2086-4ba0-eba9-f858d818bf09"
      },
      "source": [
        "a = 5\r\n",
        "b = 10\r\n",
        "print(a+b)"
      ],
      "execution_count": null,
      "outputs": [
        {
          "output_type": "stream",
          "text": [
            "15\n"
          ],
          "name": "stdout"
        }
      ]
    },
    {
      "cell_type": "markdown",
      "metadata": {
        "id": "70e4AE-4OZ7c"
      },
      "source": [
        "<h4>Float</h4>"
      ]
    },
    {
      "cell_type": "code",
      "metadata": {
        "colab": {
          "base_uri": "https://localhost:8080/"
        },
        "id": "VxWRlDZoORfn",
        "outputId": "1069735d-d58c-4e48-e696-2c5021bd94fa"
      },
      "source": [
        "a = 1.7\r\n",
        "b = 7.\r\n",
        "c = .09\r\n",
        "\r\n",
        "print(a,b,c)"
      ],
      "execution_count": null,
      "outputs": [
        {
          "output_type": "stream",
          "text": [
            "1.7 7.0 0.09\n"
          ],
          "name": "stdout"
        }
      ]
    },
    {
      "cell_type": "markdown",
      "metadata": {
        "id": "CARFdMBxOi2G"
      },
      "source": [
        "<h4>String</h4>"
      ]
    },
    {
      "cell_type": "code",
      "metadata": {
        "colab": {
          "base_uri": "https://localhost:8080/"
        },
        "id": "YKlTZpLrOgri",
        "outputId": "2d9566e4-53b8-4602-a411-fe27898d8041"
      },
      "source": [
        "a = 'Immutable'\r\n",
        "print(a[0],a[-1],a.upper(),len(a))"
      ],
      "execution_count": null,
      "outputs": [
        {
          "output_type": "stream",
          "text": [
            "I e IMMUTABLE 9\n"
          ],
          "name": "stdout"
        }
      ]
    },
    {
      "cell_type": "markdown",
      "metadata": {
        "id": "jwayfrkoOva4"
      },
      "source": [
        "<h4>Tuple</h4>"
      ]
    },
    {
      "cell_type": "code",
      "metadata": {
        "colab": {
          "base_uri": "https://localhost:8080/"
        },
        "id": "pvb13HxjOue9",
        "outputId": "4d4a4832-bc9b-432e-ada6-bed104a8ae50"
      },
      "source": [
        "a = ('Immutable',4,1.5)\r\n",
        "print(a,a[0],a[-1])\r\n",
        "\r\n",
        "a = (1,2,3,4,5)\r\n",
        "print(sum(a))"
      ],
      "execution_count": null,
      "outputs": [
        {
          "output_type": "stream",
          "text": [
            "('Immutable', 4, 1.5) Immutable 1.5\n",
            "15\n"
          ],
          "name": "stdout"
        }
      ]
    },
    {
      "cell_type": "markdown",
      "metadata": {
        "id": "la_gvJKLPMLg"
      },
      "source": [
        "<h4>Dictionary</h4>"
      ]
    },
    {
      "cell_type": "code",
      "metadata": {
        "colab": {
          "base_uri": "https://localhost:8080/"
        },
        "id": "7pOMjNPxO_Lf",
        "outputId": "de385ac2-0573-4b08-8c68-2fe46a0e2166"
      },
      "source": [
        "a = {'key':5,1.7:'value',9:7}\r\n",
        "print(a)\r\n",
        "\r\n",
        "#adding elements in dictionary\r\n",
        "dict_name[key] = value"
      ],
      "execution_count": null,
      "outputs": [
        {
          "output_type": "stream",
          "text": [
            "{'key': 5, 1.7: 'value', 9: 7}\n"
          ],
          "name": "stdout"
        }
      ]
    },
    {
      "cell_type": "markdown",
      "metadata": {
        "id": "TeCi22xhPcPE"
      },
      "source": [
        "<h4>List</h4>"
      ]
    },
    {
      "cell_type": "code",
      "metadata": {
        "colab": {
          "base_uri": "https://localhost:8080/"
        },
        "id": "wcXWKkWVPbMc",
        "outputId": "b7d613f7-4abd-4f32-8ee7-468024dc25ee"
      },
      "source": [
        "a = [1,1.5,'hello',{'z':12},(2.4,5,'hello'),[1,2,4]]\r\n",
        "print(a)\r\n",
        "\r\n",
        "#adding elements to the list\r\n",
        "list_name.append(element)"
      ],
      "execution_count": null,
      "outputs": [
        {
          "output_type": "stream",
          "text": [
            "[1, 1.5, 'hello', {'z': 12}, (2.4, 5, 'hello'), [1, 2, 4]]\n"
          ],
          "name": "stdout"
        }
      ]
    },
    {
      "cell_type": "markdown",
      "metadata": {
        "id": "wDYv-URcQi5E"
      },
      "source": [
        "<h5></h5>"
      ]
    },
    {
      "cell_type": "markdown",
      "metadata": {
        "id": "tUQq-k2ZPxuy"
      },
      "source": [
        "<h2>Conditional Statements and Loops</h2>\r\n",
        "<h3>In python, indentation is used to define scope rather than brackets</h3>\r\n",
        "\r\n",
        "<h3>Conditional Statements</h3>\r\n",
        "<ul>\r\n",
        "<li>if-else</li>\r\n",
        "<li>if-else ladder</li>\r\n",
        "<li>nested if-else</li>\r\n",
        "</ul>"
      ]
    },
    {
      "cell_type": "code",
      "metadata": {
        "colab": {
          "base_uri": "https://localhost:8080/"
        },
        "id": "zfX8Mw1qPtso",
        "outputId": "299d2669-2b7d-4ccc-a808-4e065d825c9e"
      },
      "source": [
        "if True:\r\n",
        "  print('statement-1')\r\n",
        "else:\r\n",
        "  print('statement-2')"
      ],
      "execution_count": null,
      "outputs": [
        {
          "output_type": "stream",
          "text": [
            "statement-1\n"
          ],
          "name": "stdout"
        }
      ]
    },
    {
      "cell_type": "code",
      "metadata": {
        "colab": {
          "base_uri": "https://localhost:8080/"
        },
        "id": "CXdfNNBXQu_z",
        "outputId": "3c3eb92a-f5b8-4802-d063-b381de11d454"
      },
      "source": [
        "if False:\r\n",
        "  print('Statement-1')\r\n",
        "elif False:\r\n",
        "  print('Statement-2')\r\n",
        "elif False:\r\n",
        "  print('Statement-3')\r\n",
        "else:\r\n",
        "  print('Statement-4')"
      ],
      "execution_count": null,
      "outputs": [
        {
          "output_type": "stream",
          "text": [
            "Statement-4\n"
          ],
          "name": "stdout"
        }
      ]
    },
    {
      "cell_type": "code",
      "metadata": {
        "colab": {
          "base_uri": "https://localhost:8080/"
        },
        "id": "QTnHleAFQ2NR",
        "outputId": "1cfe6984-ceab-4252-b2cb-464d28c6a1a2"
      },
      "source": [
        "if True:\r\n",
        "  if False:\r\n",
        "    print('statement-1')\r\n",
        "  else:\r\n",
        "    print('statement-2')\r\n",
        "else:\r\n",
        "  print('statement-3')"
      ],
      "execution_count": null,
      "outputs": [
        {
          "output_type": "stream",
          "text": [
            "statement-2\n"
          ],
          "name": "stdout"
        }
      ]
    },
    {
      "cell_type": "markdown",
      "metadata": {
        "id": "01nMcnglRPfm"
      },
      "source": [
        "<h3>Loops</h3>\r\n",
        "<ul>\r\n",
        "<li>For loop</li>\r\n",
        "<li>While loop</li>\r\n",
        "</ul>"
      ]
    },
    {
      "cell_type": "markdown",
      "metadata": {
        "id": "XGhH0l56R3f7"
      },
      "source": [
        "For loop syntax:<br><br>\r\n",
        "\r\n",
        "for value in iterator:<br>\r\n",
        "> statements"
      ]
    },
    {
      "cell_type": "code",
      "metadata": {
        "colab": {
          "base_uri": "https://localhost:8080/"
        },
        "id": "h6bVjQxxRDSJ",
        "outputId": "95770720-fef9-4c3a-91e3-9664df07d542"
      },
      "source": [
        "a = [1,2,3,4,5,6,7,8,9,10]\r\n",
        "for i in a:\r\n",
        "  print(i)"
      ],
      "execution_count": null,
      "outputs": [
        {
          "output_type": "stream",
          "text": [
            "1\n",
            "2\n",
            "3\n",
            "4\n",
            "5\n",
            "6\n",
            "7\n",
            "8\n",
            "9\n",
            "10\n"
          ],
          "name": "stdout"
        }
      ]
    },
    {
      "cell_type": "code",
      "metadata": {
        "colab": {
          "base_uri": "https://localhost:8080/"
        },
        "id": "3I2zL5HnR0HH",
        "outputId": "6bf25ca0-562b-46c0-8fee-2122b7ffa890"
      },
      "source": [
        "for i in range(10):\r\n",
        "  print(i)"
      ],
      "execution_count": null,
      "outputs": [
        {
          "output_type": "stream",
          "text": [
            "0\n",
            "1\n",
            "2\n",
            "3\n",
            "4\n",
            "5\n",
            "6\n",
            "7\n",
            "8\n",
            "9\n"
          ],
          "name": "stdout"
        }
      ]
    },
    {
      "cell_type": "markdown",
      "metadata": {
        "id": "9DdytHj0Sm5H"
      },
      "source": [
        "while Loop syntax:<br><br>\r\n",
        "while {condition}:\r\n",
        ">statements"
      ]
    },
    {
      "cell_type": "code",
      "metadata": {
        "colab": {
          "base_uri": "https://localhost:8080/"
        },
        "id": "eAG1_XGcR2pM",
        "outputId": "0854a8f3-9d13-49a3-e150-a3608b5fc8b9"
      },
      "source": [
        "i=0\r\n",
        "while True:\r\n",
        "  i = i+1\r\n",
        "  print(i)\r\n",
        "  if i>5:\r\n",
        "    break"
      ],
      "execution_count": null,
      "outputs": [
        {
          "output_type": "stream",
          "text": [
            "1\n",
            "2\n",
            "3\n",
            "4\n",
            "5\n",
            "6\n"
          ],
          "name": "stdout"
        }
      ]
    },
    {
      "cell_type": "markdown",
      "metadata": {
        "id": "XOW2zpdu_qs0"
      },
      "source": [
        "<h3>List Comprehension</h3>\r\n",
        "\r\n",
        "<h4>We can combine lists and for-loops so that we can create list which is based on iterative values</h4>"
      ]
    },
    {
      "cell_type": "code",
      "metadata": {
        "colab": {
          "base_uri": "https://localhost:8080/"
        },
        "id": "BZmluwmj_9Yx",
        "outputId": "56b92ad5-92f5-4d23-a38c-44c331be8b22"
      },
      "source": [
        "a = [(i,j) for i in range(5) for j in range(5)]\r\n",
        "print(a)"
      ],
      "execution_count": null,
      "outputs": [
        {
          "output_type": "stream",
          "text": [
            "[(0, 0), (0, 1), (0, 2), (0, 3), (0, 4), (1, 0), (1, 1), (1, 2), (1, 3), (1, 4), (2, 0), (2, 1), (2, 2), (2, 3), (2, 4), (3, 0), (3, 1), (3, 2), (3, 3), (3, 4), (4, 0), (4, 1), (4, 2), (4, 3), (4, 4)]\n"
          ],
          "name": "stdout"
        }
      ]
    },
    {
      "cell_type": "markdown",
      "metadata": {
        "id": "Ka3TFonlAUIN"
      },
      "source": [
        "<h3>Slicing</h3>\r\n",
        "<h4>To access a part of list, we can slice a list from start point(index) to end point(index)</h4>"
      ]
    },
    {
      "cell_type": "code",
      "metadata": {
        "colab": {
          "base_uri": "https://localhost:8080/"
        },
        "id": "9mzFqmCgAgPa",
        "outputId": "5c5463f5-7ab1-471f-f478-ba573c7da122"
      },
      "source": [
        "# listname[start_index:end_index+1,jump(optional: default 1)]\r\n",
        "a = [1,2,3,4,5,6,7,8,9,0]\r\n",
        "print(a[5:9])\r\n",
        "print(a[:9])\r\n",
        "print(a[5:])\r\n",
        "print(a[3:8:2])\r\n",
        "print(a[-5:-1])\r\n",
        "print(a[2:-1])\r\n",
        "#a[-3:5] invalid if start_index is on right side of end_index\r\n",
        "print(a[-5:8])\r\n",
        "print('Result of negative jump',a[::-1])"
      ],
      "execution_count": null,
      "outputs": [
        {
          "output_type": "stream",
          "text": [
            "[6, 7, 8, 9]\n",
            "[1, 2, 3, 4, 5, 6, 7, 8, 9]\n",
            "[6, 7, 8, 9, 0]\n",
            "[4, 6, 8]\n",
            "[6, 7, 8, 9]\n",
            "[3, 4, 5, 6, 7, 8, 9]\n",
            "[6, 7, 8]\n",
            "Result of negative jump [0, 9, 8, 7, 6, 5, 4, 3, 2, 1]\n"
          ],
          "name": "stdout"
        }
      ]
    },
    {
      "cell_type": "markdown",
      "metadata": {
        "id": "7wOSZl2-TAKB"
      },
      "source": [
        "<h2>Operators</h2>\r\n",
        "\r\n",
        "<ul>\r\n",
        "<li>Arithmetic operators</li>\r\n",
        "<li>Assignmnet operators</li>\r\n",
        "<li>Comparison operators</li>\r\n",
        "<li>Logical operators</li>\r\n",
        "<li>Identity operators</li>\r\n",
        "<li>Membership operators</li>\r\n",
        "<li>Bitwise operators</li>\r\n",
        "</ul>"
      ]
    },
    {
      "cell_type": "markdown",
      "metadata": {
        "id": "H0qr5bmsTsqj"
      },
      "source": [
        "<h4>Arithmetic operators</h4>"
      ]
    },
    {
      "cell_type": "code",
      "metadata": {
        "colab": {
          "base_uri": "https://localhost:8080/"
        },
        "id": "IcTWAKXUS9Ra",
        "outputId": "fbe29068-f062-4831-ca44-a5809b57e631"
      },
      "source": [
        "a = 5 + 10 #-> 15\r\n",
        "b = 10 - 5 #-> 5\r\n",
        "c = 10 * 5 #-> 50\r\n",
        "d = 10 / int(9) #-> 1.11\r\n",
        "e = 10 // 9. #-> 1.0\r\n",
        "f = 10 ** 3 #-> 1000\r\n",
        "g = 10 % 7 #-> 3\r\n",
        "\r\n",
        "print(a,b,c,d,e,f,g)"
      ],
      "execution_count": null,
      "outputs": [
        {
          "output_type": "stream",
          "text": [
            "15 5 50 1.1111111111111112 1.0 1000 3\n"
          ],
          "name": "stdout"
        }
      ]
    },
    {
      "cell_type": "markdown",
      "metadata": {
        "id": "6XUeXNAgUgiy"
      },
      "source": [
        "<h4>Assignment operator</h4>\r\n",
        "\r\n",
        "<h5>It can be combined with arithmetic operators to assign the result of arithmetic expression directly into the variable on which the expression was performed</h5>"
      ]
    },
    {
      "cell_type": "code",
      "metadata": {
        "colab": {
          "base_uri": "https://localhost:8080/"
        },
        "id": "SKTd3oXnUGwu",
        "outputId": "dce3b4de-de73-4e3a-f864-e345286a8b37"
      },
      "source": [
        "a = 10\r\n",
        "print(a)\r\n",
        "a += 15\r\n",
        "print(a)"
      ],
      "execution_count": null,
      "outputs": [
        {
          "output_type": "stream",
          "text": [
            "10\n",
            "25\n"
          ],
          "name": "stdout"
        }
      ]
    },
    {
      "cell_type": "markdown",
      "metadata": {
        "id": "I8cAbI-XU6cP"
      },
      "source": [
        "<h4>Comparison Operator</h4>"
      ]
    },
    {
      "cell_type": "code",
      "metadata": {
        "colab": {
          "base_uri": "https://localhost:8080/"
        },
        "id": "exnnWr_nU5Tr",
        "outputId": "49a9870c-50e2-43f0-979f-8fddbb48c3ea"
      },
      "source": [
        "print(10 == 10)\r\n",
        "print(10 != 10)\r\n",
        "print(10 > 10)\r\n",
        "print(10 < 20)\r\n",
        "print(10 >= 10)\r\n",
        "print(10 <= 5)"
      ],
      "execution_count": null,
      "outputs": [
        {
          "output_type": "stream",
          "text": [
            "True\n",
            "False\n",
            "False\n",
            "True\n",
            "True\n",
            "False\n"
          ],
          "name": "stdout"
        }
      ]
    },
    {
      "cell_type": "markdown",
      "metadata": {
        "id": "C7XVjTf4VSQR"
      },
      "source": [
        "<h4>Logical Operator</h4>\r\n",
        "<ul>\r\n",
        "<li>And</li>\r\n",
        "<li>Or</li>\r\n",
        "<li>Not</li>\r\n",
        "</ul>"
      ]
    },
    {
      "cell_type": "code",
      "metadata": {
        "colab": {
          "base_uri": "https://localhost:8080/"
        },
        "id": "PW3oFVdyVRZ4",
        "outputId": "e3aacf63-2921-45d1-cb81-5b695d44aa5b"
      },
      "source": [
        "print(True and True)\r\n",
        "print(False or False)\r\n",
        "print(not False)"
      ],
      "execution_count": null,
      "outputs": [
        {
          "output_type": "stream",
          "text": [
            "True\n",
            "False\n",
            "True\n"
          ],
          "name": "stdout"
        }
      ]
    },
    {
      "cell_type": "markdown",
      "metadata": {
        "id": "rNh-q_4sV4NM"
      },
      "source": [
        "<h4>Identity and Membership Operator</h4>\r\n",
        "<ul>\r\n",
        "<li>Identity - is</li>\r\n",
        "<li>Membership - in</li>\r\n",
        "</ul>"
      ]
    },
    {
      "cell_type": "code",
      "metadata": {
        "colab": {
          "base_uri": "https://localhost:8080/"
        },
        "id": "_fqaSb76VxW-",
        "outputId": "23d07f49-763f-4548-fae0-39befd5e4457"
      },
      "source": [
        "a = 5\r\n",
        "print(a is 5)"
      ],
      "execution_count": null,
      "outputs": [
        {
          "output_type": "stream",
          "text": [
            "True\n"
          ],
          "name": "stdout"
        }
      ]
    },
    {
      "cell_type": "code",
      "metadata": {
        "colab": {
          "base_uri": "https://localhost:8080/"
        },
        "id": "xpFaJ4yFWUu-",
        "outputId": "61844d61-a70b-4d11-9d18-19c8972b75d6"
      },
      "source": [
        "a = [1,2,3,4,5]\r\n",
        "print(5 in a)"
      ],
      "execution_count": null,
      "outputs": [
        {
          "output_type": "stream",
          "text": [
            "True\n"
          ],
          "name": "stdout"
        }
      ]
    },
    {
      "cell_type": "markdown",
      "metadata": {
        "id": "DQMc_uxMWfQ9"
      },
      "source": [
        "<h2>Functions</h2>\r\n",
        "\r\n",
        "<h3>Syntax</h3>\r\n",
        "\r\n",
        "<br>\r\n",
        "def function_name(arguements):<br>\r\n",
        "\r\n",
        "> statements"
      ]
    },
    {
      "cell_type": "code",
      "metadata": {
        "id": "U-JX3d42WaEx",
        "colab": {
          "base_uri": "https://localhost:8080/"
        },
        "outputId": "fe1e61b8-540a-4cf0-ec0b-324141c78254"
      },
      "source": [
        "def function(a,b=8):\r\n",
        "  if isinstance(a,(int,float)):\r\n",
        "    print(a+b)\r\n",
        "\r\n",
        "function(5)"
      ],
      "execution_count": null,
      "outputs": [
        {
          "output_type": "stream",
          "text": [
            "13\n"
          ],
          "name": "stdout"
        }
      ]
    },
    {
      "cell_type": "code",
      "metadata": {
        "colab": {
          "base_uri": "https://localhost:8080/"
        },
        "id": "tqsH3jGJrl4o",
        "outputId": "67dc8c29-de45-4196-f402-9cfd9f21c479"
      },
      "source": [
        "def function(a=5,b=8):\r\n",
        "  return a+b\r\n",
        "\r\n",
        "print(function())"
      ],
      "execution_count": null,
      "outputs": [
        {
          "output_type": "stream",
          "text": [
            "13\n"
          ],
          "name": "stdout"
        }
      ]
    },
    {
      "cell_type": "markdown",
      "metadata": {
        "id": "AZEyhjGQsAeZ"
      },
      "source": [
        "<h2>Classes and Object</h2>\r\n",
        "\r\n",
        "<h3>Syntax</h3><br>\r\n",
        "class class_name():\r\n",
        "\r\n",
        ">data_members<br>\r\n",
        ">member_functions\r\n",
        "\r\n",
        "<h4> data_members: class variables<br>\r\n",
        "member_functions: class functions<br>\r\n",
        "</h4>\r\n",
        "<br>\r\n",
        "<h4>\r\n",
        "Classes and Objects can be easily understood by the below given examples:<br>\r\n",
        "\r\n",
        "We all know that we have to make practical files for all subjects. The format of the practical file can be viewed as 'Class' and files of each student can be viewed as 'Object' of the Class, as all the files will follow same template(formatting).<br>\r\n",
        "\r\n",
        "Constructor is used to create an object of the existing class where all data members and member functions are initialized.\r\n",
        "</h4>"
      ]
    },
    {
      "cell_type": "code",
      "metadata": {
        "colab": {
          "base_uri": "https://localhost:8080/"
        },
        "id": "_MGCmv1Jr08V",
        "outputId": "cadb77fe-dfe0-46a0-8912-1888ebe4a685"
      },
      "source": [
        "class example():\r\n",
        "  \r\n",
        "  #contructor\r\n",
        "  def __init__(self,a=5,b=10):\r\n",
        "    self.a = a\r\n",
        "    self.b = b\r\n",
        "    self.sum = a+b\r\n",
        "  \r\n",
        "  def print_sum(self):\r\n",
        "    print(self.sum)\r\n",
        "\r\n",
        "example_1 = example(10,7)\r\n",
        "example_1.print_sum()\r\n",
        "example_2 = example(90,10)\r\n",
        "example_2.print_sum()\r\n",
        "example_3 = example(5,6)\r\n",
        "example_3.print_sum()"
      ],
      "execution_count": null,
      "outputs": [
        {
          "output_type": "stream",
          "text": [
            "17\n",
            "100\n",
            "11\n"
          ],
          "name": "stdout"
        }
      ]
    },
    {
      "cell_type": "markdown",
      "metadata": {
        "id": "TF_-eY6IuXKR"
      },
      "source": [
        "<h2>Inheritance</h2>\r\n",
        "<br>\r\n",
        "<h3>Inheritance is the concept where we can use the member functions and data members of one class in other class. It's meaning is literally as the name suggests, the child class inherits methods and variables from parent class and use it anytime.</h3>\r\n",
        "\r\n",
        "<br>\r\n",
        "<h3>\r\n",
        "Super keyword is used to access Parent class methods which can overlap with child class\r\n",
        "</h3>\r\n"
      ]
    },
    {
      "cell_type": "code",
      "metadata": {
        "colab": {
          "base_uri": "https://localhost:8080/"
        },
        "id": "0er-h9LbuVPh",
        "outputId": "90669a84-cf0a-422e-d319-8a59e1ee22d5"
      },
      "source": [
        "class parent():\r\n",
        "\r\n",
        "  def __init__(self,p_a,p_b):\r\n",
        "    self.a = p_a\r\n",
        "    self.b = p_b\r\n",
        "    self.sum = p_a + p_b\r\n",
        "  \r\n",
        "  def print_sum(self):\r\n",
        "    print(self.sum)\r\n",
        "\r\n",
        "\r\n",
        "class child(parent):\r\n",
        "\r\n",
        "  def __init(self,c_a,c_b):\r\n",
        "    super(child,self).__init__()\r\n",
        "    self.a = c_a\r\n",
        "    self.b = c_b\r\n",
        "    self.sum = c_a + c_b\r\n",
        "\r\n",
        "parent_object = parent(4,5)\r\n",
        "parent_object.print_sum()\r\n",
        "child_object = child(10,10)\r\n",
        "child_object.print_sum()"
      ],
      "execution_count": null,
      "outputs": [
        {
          "output_type": "stream",
          "text": [
            "9\n",
            "20\n"
          ],
          "name": "stdout"
        }
      ]
    },
    {
      "cell_type": "markdown",
      "metadata": {
        "id": "wT2_9SdVwegH"
      },
      "source": [
        "<h2>Numpy</h2>\r\n",
        "\r\n",
        "<h3>Python has no support for in-built arrays, hence generally lists are used as arrays. But lists have high memory consumption. Therefore we use \"Numpy\" library to use arrays which has low memory consumption and are fast. \"Numpy\" provides multi-dimensional array support and in-built functions to manipulate the arrays in all possible ways, which is why \"Numpy\" is used whenever we are doing machine learning.</h3>"
      ]
    },
    {
      "cell_type": "code",
      "metadata": {
        "id": "MbJfMqUcwVvg"
      },
      "source": [
        "# import the libaray \"Numpy\" in your workspace\r\n",
        "import numpy as np #import numpy as {alias}"
      ],
      "execution_count": null,
      "outputs": []
    },
    {
      "cell_type": "code",
      "metadata": {
        "colab": {
          "base_uri": "https://localhost:8080/"
        },
        "id": "8POGZ1pZ7Mt5",
        "outputId": "5eb21a4e-9f79-41c4-bfae-4112161c3217"
      },
      "source": [
        "# defining numpy arrays\r\n",
        "# we can just past a python \"list\" as an arguement in constructor of numpy.array class which will give us numpy.array object with passed \"list\" elements as array elements\r\n",
        "\r\n",
        "a = np.array([1,2,3,4,5])\r\n",
        "print(a)"
      ],
      "execution_count": null,
      "outputs": [
        {
          "output_type": "stream",
          "text": [
            "[1 2 3 4 5]\n"
          ],
          "name": "stdout"
        }
      ]
    },
    {
      "cell_type": "code",
      "metadata": {
        "colab": {
          "base_uri": "https://localhost:8080/"
        },
        "id": "XaqSGhth7k1x",
        "outputId": "4952290c-4821-430b-856a-f85e4d234e85"
      },
      "source": [
        "# basic array manipulative functions in numpy\r\n",
        "print('Array dimensions:',a.shape)\r\n",
        "\r\n",
        "print('Array reshape:',a.reshape(1,5,1))\r\n",
        "print('Array shape after reshaping:',a.reshape(1,5,1).shape)\r\n",
        "\r\n",
        "print('Note that the product of arguements passed in \"reshape\" function should be equal to the product of all dimensions of the initial array')"
      ],
      "execution_count": null,
      "outputs": [
        {
          "output_type": "stream",
          "text": [
            "Array dimensions: (5,)\n",
            "Array reshape: [[[1]\n",
            "  [2]\n",
            "  [3]\n",
            "  [4]\n",
            "  [5]]]\n",
            "Array shape after reshaping: (1, 5, 1)\n",
            "Note that the product of arguements passed in \"reshape\" function should be equal to the product of all dimensions of the initial array\n"
          ],
          "name": "stdout"
        }
      ]
    },
    {
      "cell_type": "code",
      "metadata": {
        "colab": {
          "base_uri": "https://localhost:8080/"
        },
        "id": "4qm9aNIh8LVR",
        "outputId": "5f949b58-8be2-4635-9ba9-ca70d65766dd"
      },
      "source": [
        "# Defining array data-type while defining the array\r\n",
        "a = np.array([1,2,3,4,5],dtype=np.float32)\r\n",
        "print(a)"
      ],
      "execution_count": null,
      "outputs": [
        {
          "output_type": "stream",
          "text": [
            "[1. 2. 3. 4. 5.]\n"
          ],
          "name": "stdout"
        }
      ]
    },
    {
      "cell_type": "markdown",
      "metadata": {
        "id": "csqHSkvF8vVd"
      },
      "source": [
        "<h3>Data types in numpy</h3>\r\n",
        "<h4>Numpy supports a long list of data-types. Multiple variations of Integer, Float, String etc.<br>\r\n",
        "You can check the data-types here:<br>\r\n",
        "\r\n",
        "> https://numpy.org/devdocs/user/basics.types.html</h4>"
      ]
    },
    {
      "cell_type": "code",
      "metadata": {
        "colab": {
          "base_uri": "https://localhost:8080/"
        },
        "id": "9bCM0BDJ8rrJ",
        "outputId": "fa87c3e7-f439-43f3-adaa-df106371fada"
      },
      "source": [
        "# number of dimensions of the array\r\n",
        "print('#Dimensions of Array:',np.ndim(a))\r\n",
        "print('After reshaping it to 3 dimensional array:',np.ndim(a.reshape(1,5,1)))"
      ],
      "execution_count": null,
      "outputs": [
        {
          "output_type": "stream",
          "text": [
            "#Dimensions of Array: 1\n",
            "After reshaping it to 3 dimensional array: 3\n"
          ],
          "name": "stdout"
        }
      ]
    },
    {
      "cell_type": "code",
      "metadata": {
        "colab": {
          "base_uri": "https://localhost:8080/"
        },
        "id": "D_DYukE39kRl",
        "outputId": "a530d81d-db96-4b55-cc9c-936da3701887"
      },
      "source": [
        "#Sorting and getting indices of the sorted array\r\n",
        "a = np.array([4,7,3,9,46,6,1,6,43,63,8])\r\n",
        "print('Array:',a)\r\n",
        "print('Sorting a array:',np.sort(a))\r\n",
        "print('Indices in sorted manner of the array without actually sorting the array:',np.argsort(a))"
      ],
      "execution_count": null,
      "outputs": [
        {
          "output_type": "stream",
          "text": [
            "Array: [ 4  7  3  9 46  6  1  6 43 63  8]\n",
            "Sorting a array: [ 1  3  4  6  6  7  8  9 43 46 63]\n",
            "Indices in sorted manner of the array without actually sorting the array: [ 6  2  0  5  7  1 10  3  8  4  9]\n"
          ],
          "name": "stdout"
        }
      ]
    },
    {
      "cell_type": "code",
      "metadata": {
        "colab": {
          "base_uri": "https://localhost:8080/"
        },
        "id": "Zn3Ulzea-fWn",
        "outputId": "31bebe1d-0b7c-41f0-f960-74475be12d94"
      },
      "source": [
        "# Minimum, Maximum, Indices of minimum and maximum\r\n",
        "print('Array:',a)\r\n",
        "print('Minimum:',a.min())\r\n",
        "print('Maximum:',a.max())\r\n",
        "print('Index of Minimum:',a.argmin())\r\n",
        "print('Index of Maximum:',a.argmax())"
      ],
      "execution_count": null,
      "outputs": [
        {
          "output_type": "stream",
          "text": [
            "Array: [ 4  7  3  9 46  6  1  6 43 63  8]\n",
            "Minimum: 1\n",
            "Maximum: 63\n",
            "Index of Minimum: 6\n",
            "Index of Maximum: 9\n"
          ],
          "name": "stdout"
        }
      ]
    },
    {
      "cell_type": "code",
      "metadata": {
        "colab": {
          "base_uri": "https://localhost:8080/"
        },
        "id": "BHStZvgB-3za",
        "outputId": "830b308b-5c78-4e42-9fec-ae24bd457379"
      },
      "source": [
        "# expanding dimensions across the axis\r\n",
        "print('Array:',a,'\\nArray shape:',a.shape)\r\n",
        "print('Increasing the number of dimensions of array:',np.expand_dims(a,axis=1))\r\n",
        "print('Shape after using np.expand_dims():',np.expand_dims(a,axis=1).shape)"
      ],
      "execution_count": null,
      "outputs": [
        {
          "output_type": "stream",
          "text": [
            "Array: [ 4  7  3  9 46  6  1  6 43 63  8] \n",
            "Array shape: (11,)\n",
            "Increasing the number of dimensions of array: [[ 4]\n",
            " [ 7]\n",
            " [ 3]\n",
            " [ 9]\n",
            " [46]\n",
            " [ 6]\n",
            " [ 1]\n",
            " [ 6]\n",
            " [43]\n",
            " [63]\n",
            " [ 8]]\n",
            "Shape after using np.expand_dims(): (11, 1)\n"
          ],
          "name": "stdout"
        }
      ]
    },
    {
      "cell_type": "markdown",
      "metadata": {
        "id": "NM5AsIF5Ccb4"
      },
      "source": [
        "<center><h1>Thank You</h1></center>"
      ]
    }
  ]
}